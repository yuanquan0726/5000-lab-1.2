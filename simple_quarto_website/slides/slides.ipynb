{
 "cells": [
  {
   "cell_type": "markdown",
   "metadata": {},
   "source": [
    "---\n",
    "title: \"My pre\"\n",
    "author: \"Rach Yuan\"\n",
    "format: \n",
    "  revealjs:\n",
    "    slide_number: True\n",
    "    chalkboard:\n",
    "      buttons: false\n",
    "    preview-links: auto\n",
    "    code-fold: true\n",
    "    code-summary: \"Show the code\"\n",
    "\n",
    "jupyter: python3\n",
    "bibliography: ../reference.bib\n",
    "---\n",
    "\n"
   ]
  },
  {
   "cell_type": "raw",
   "metadata": {},
   "source": [
    "## My dog\n",
    "\n",
    "- My cute puppy\n",
    "- My baby\n",
    "![Cute dog Chai](../images/image1.jpg)\n",
    "\n",
    "\n",
    "\n",
    "## Going to sleep\n",
    "\n",
    "- Get in bed\n",
    "- Count sheep\n",
    "\n",
    "![Cute dog Qiu](../images/image2.jpg)\n",
    "\n",
    "## Code\n",
    "```{python}\n",
    "import matplotlib.pyplot as plt\n",
    "import numpy as np\n",
    "np.random.seed(42)\n",
    "x = np.random.rand(50)\n",
    "y = np.random.rand(50)\n",
    "plt.figure(figsize=(8, 4))\n",
    "plt.scatter(x, y, color='blue', label='Random Data')\n",
    "plt.xlabel('X-axis')\n",
    "plt.ylabel('Y-axis')\n",
    "plt.title('Scatter Plot of Random Data')\n",
    "plt.legend()\n",
    "plt.grid(True)\n",
    "plt.show()\n",
    "```\n"
   ]
  },
  {
   "cell_type": "code",
   "execution_count": 6,
   "metadata": {},
   "outputs": [
    {
     "data": {
      "image/png": "[encoded data removed]",
      "text/plain": [
       "<Figure size 576x288 with 1 Axes>"
      ]
     },
     "metadata": {
      "needs_background": "light"
     },
     "output_type": "display_data"
    }
   ],
   "source": [
    "#| echo: true\n",
    "#| code_fold: true\n",
    "\n",
    "import matplotlib.pyplot as plt\n",
    "import numpy as np\n",
    "np.random.seed(42)\n",
    "x = np.random.rand(50)\n",
    "y = np.random.rand(50)\n",
    "plt.figure(figsize=(8, 4))\n",
    "plt.scatter(x, y, color='blue', label='Random Data')\n",
    "plt.xlabel('X-axis')\n",
    "plt.ylabel('Y-axis')\n",
    "plt.title('Scatter Plot of Random Data')\n",
    "plt.legend()\n",
    "plt.grid(True)\n",
    "plt.show()"
   ]
  },
  {
   "cell_type": "raw",
   "metadata": {},
   "source": [
    "## References\n",
    "See @wickham2016data for an illustration."
   ]
  }
 ],
 "metadata": {
  "kernelspec": {
   "display_name": "base",
   "language": "python",
   "name": "python3"
  },
  "language_info": {
   "codemirror_mode": {
    "name": "ipython",
    "version": 3
   },
   "file_extension": ".py",
   "mimetype": "text/x-python",
   "name": "python",
   "nbconvert_exporter": "python",
   "pygments_lexer": "ipython3",
   "version": "3.8.8"
  },
  "orig_nbformat": 4
 },
 "nbformat": 4,
 "nbformat_minor": 2
}
