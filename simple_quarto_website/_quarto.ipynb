{
  "cells": [
    {
      "cell_type": "markdown",
      "metadata": {},
      "source": [
        "project:\n",
        "  type: website\n",
        "\n",
        "website:\n",
        "  title: \"simple_quarto_website\"\n",
        "  navbar:\n",
        "    left:\n",
        "      - href: index.qmd\n",
        "        text: Home\n",
        "      - about.qmd\n",
        "\n",
        "format:\n",
        "  html:\n",
        "    theme: cosmo\n",
        "    toc: true\n"
      ]
    }
  ],
  "metadata": {
    "kernelspec": {
      "name": "python3",
      "language": "python",
      "display_name": "Python 3"
    }
  },
  "nbformat": 4,
  "nbformat_minor": 4
}